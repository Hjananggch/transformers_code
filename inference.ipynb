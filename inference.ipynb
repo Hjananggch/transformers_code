{
 "cells": [
  {
   "cell_type": "code",
   "execution_count": 7,
   "metadata": {},
   "outputs": [],
   "source": [
    "from transformers import AutoTokenizer,AutoModelForCausalLM\n",
    "from peft import PeftModel"
   ]
  },
  {
   "cell_type": "code",
   "execution_count": 9,
   "metadata": {},
   "outputs": [],
   "source": [
    "###load model\n",
    "tokenizer = AutoTokenizer.from_pretrained(\"qw_0.5_instruct\")\n",
    "model = AutoModelForCausalLM.from_pretrained(\"qw_0.5_instruct\")\n",
    "p_model = PeftModel.from_pretrained(model,model_id=\"./lora_qw2.5/checkpoint-276\")"
   ]
  },
  {
   "cell_type": "code",
   "execution_count": null,
   "metadata": {},
   "outputs": [
    {
     "name": "stdout",
     "output_type": "stream",
     "text": [
      "喜欢。\n"
     ]
    }
   ],
   "source": [
    "def predict(messages, model, tokenizer):\n",
    "    device = \"cuda\"  # Define device as CUDA\n",
    "    model.to(device)  # Make sure the model is also moved to the CUDA device\n",
    "\n",
    "    text = tokenizer.apply_chat_template(\n",
    "        messages, tokenize=False, add_generation_prompt=True\n",
    "    )\n",
    "    \n",
    "    model_inputs = tokenizer([text], return_tensors=\"pt\").to(device)\n",
    "\n",
    "    generated_ids = model.generate(input_ids=model_inputs.input_ids, max_new_tokens=512)\n",
    "\n",
    "    generated_ids = [\n",
    "        output_ids[len(input_ids):] \n",
    "        for input_ids, output_ids in zip(model_inputs.input_ids, generated_ids)\n",
    "    ]\n",
    "\n",
    "    response = tokenizer.batch_decode(generated_ids, skip_special_tokens=True)[0]\n",
    "\n",
    "    return response\n",
    "\n",
    "INSTRUCTION = \"你是一个物流专家，请根据用户的问题给出专业的回答\"\n",
    "questions = \"2023年快递业务收入占邮政行业总收入的比重是多少，比去年增长了多少？\"\n",
    "messages = [\n",
    "                {\"role\": \"system\", \"content\": f\"{INSTRUCTION}\"},\n",
    "                {\"role\": \"user\", \"content\": f\"{questions}\"},\n",
    "            ]\n",
    "\n",
    "response = predict(messages, p_model, tokenizer)\n",
    "print(response)\n"
   ]
  },
  {
   "cell_type": "code",
   "execution_count": null,
   "metadata": {},
   "outputs": [],
   "source": []
  }
 ],
 "metadata": {
  "kernelspec": {
   "display_name": "t",
   "language": "python",
   "name": "python3"
  },
  "language_info": {
   "codemirror_mode": {
    "name": "ipython",
    "version": 3
   },
   "file_extension": ".py",
   "mimetype": "text/x-python",
   "name": "python",
   "nbconvert_exporter": "python",
   "pygments_lexer": "ipython3",
   "version": "3.8.19"
  }
 },
 "nbformat": 4,
 "nbformat_minor": 2
}
