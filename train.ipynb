{
 "cells": [
  {
   "cell_type": "code",
   "execution_count": 1,
   "id": "initial_id",
   "metadata": {
    "collapsed": true,
    "jupyter": {
     "is_executing": true
    }
   },
   "outputs": [],
   "source": [
    "from datasets import load_dataset,Dataset\n",
    "from transformers import AutoTokenizer,AutoModelForCausalLM,Trainer, TrainingArguments,DataCollatorForSeq2Seq\n",
    "import json"
   ]
  },
  {
   "cell_type": "code",
   "execution_count": null,
   "id": "debcb2de",
   "metadata": {},
   "outputs": [
    {
     "ename": "FileNotFoundError",
     "evalue": "[Errno 2] No such file or directory: 'C:\\\\Users\\\\AN\\\\Desktop\\\\qw\\\\train_datas1.json'",
     "output_type": "error",
     "traceback": [
      "\u001b[1;31m---------------------------------------------------------------------------\u001b[0m",
      "\u001b[1;31mFileNotFoundError\u001b[0m                         Traceback (most recent call last)",
      "Cell \u001b[1;32mIn[2], line 69\u001b[0m\n\u001b[0;32m     67\u001b[0m input_file \u001b[38;5;241m=\u001b[39m \u001b[38;5;124mr\u001b[39m\u001b[38;5;124m'\u001b[39m\u001b[38;5;124mC:\u001b[39m\u001b[38;5;124m\\\u001b[39m\u001b[38;5;124mUsers\u001b[39m\u001b[38;5;124m\\\u001b[39m\u001b[38;5;124mAN\u001b[39m\u001b[38;5;124m\\\u001b[39m\u001b[38;5;124mDesktop\u001b[39m\u001b[38;5;124m\\\u001b[39m\u001b[38;5;124mqw\u001b[39m\u001b[38;5;124m\\\u001b[39m\u001b[38;5;124mtrain_datas1.json\u001b[39m\u001b[38;5;124m'\u001b[39m\n\u001b[0;32m     68\u001b[0m instruction_text \u001b[38;5;241m=\u001b[39m \u001b[38;5;124m\"\u001b[39m\u001b[38;5;124m你是一个物流专家，请根据用户的问题给出专业的回答\u001b[39m\u001b[38;5;124m\"\u001b[39m\n\u001b[1;32m---> 69\u001b[0m processed_dataset \u001b[38;5;241m=\u001b[39m \u001b[43mpreprocess_dataset\u001b[49m\u001b[43m(\u001b[49m\u001b[43minput_file\u001b[49m\u001b[43m,\u001b[49m\u001b[43m \u001b[49m\u001b[43mtokenizer\u001b[49m\u001b[43m,\u001b[49m\u001b[43m \u001b[49m\u001b[43minstruction_text\u001b[49m\u001b[43m)\u001b[49m\n\u001b[0;32m     71\u001b[0m \u001b[38;5;66;03m# # 打印第一个样本进行验证\u001b[39;00m\n\u001b[0;32m     72\u001b[0m \u001b[38;5;28mprint\u001b[39m(processed_dataset[\u001b[38;5;241m0\u001b[39m])\n",
      "Cell \u001b[1;32mIn[2], line 18\u001b[0m, in \u001b[0;36mpreprocess_dataset\u001b[1;34m(input_file, tokenizer, instruction_text, max_length)\u001b[0m\n\u001b[0;32m      5\u001b[0m \u001b[38;5;28;01mdef\u001b[39;00m \u001b[38;5;21mpreprocess_dataset\u001b[39m(input_file, tokenizer, instruction_text, max_length\u001b[38;5;241m=\u001b[39m\u001b[38;5;241m512\u001b[39m):\n\u001b[0;32m      6\u001b[0m \u001b[38;5;250m    \u001b[39m\u001b[38;5;124;03m\"\"\"\u001b[39;00m\n\u001b[0;32m      7\u001b[0m \u001b[38;5;124;03m    预处理数据集，将输入和输出文本转化为模型可以接受的格式。\u001b[39;00m\n\u001b[0;32m      8\u001b[0m \n\u001b[1;32m   (...)\u001b[0m\n\u001b[0;32m     16\u001b[0m \u001b[38;5;124;03m        list[dict]: 预处理后的数据集，每个样本是一个字典，包含 input_ids、attention_mask 和 labels。\u001b[39;00m\n\u001b[0;32m     17\u001b[0m \u001b[38;5;124;03m    \"\"\"\u001b[39;00m\n\u001b[1;32m---> 18\u001b[0m     \u001b[38;5;28;01mwith\u001b[39;00m \u001b[38;5;28;43mopen\u001b[39;49m\u001b[43m(\u001b[49m\u001b[43minput_file\u001b[49m\u001b[43m,\u001b[49m\u001b[43m \u001b[49m\u001b[38;5;124;43m'\u001b[39;49m\u001b[38;5;124;43mr\u001b[39;49m\u001b[38;5;124;43m'\u001b[39;49m\u001b[43m,\u001b[49m\u001b[43m \u001b[49m\u001b[43mencoding\u001b[49m\u001b[38;5;241;43m=\u001b[39;49m\u001b[38;5;124;43m'\u001b[39;49m\u001b[38;5;124;43mutf-8\u001b[39;49m\u001b[38;5;124;43m'\u001b[39;49m\u001b[43m)\u001b[49m \u001b[38;5;28;01mas\u001b[39;00m f:\n\u001b[0;32m     19\u001b[0m         data \u001b[38;5;241m=\u001b[39m json\u001b[38;5;241m.\u001b[39mload(f)  \u001b[38;5;66;03m# 假定 JSON 文件内容为一个数组\u001b[39;00m\n\u001b[0;32m     21\u001b[0m     processed_data \u001b[38;5;241m=\u001b[39m []\n",
      "File \u001b[1;32md:\\Anaconda\\envs\\t\\lib\\site-packages\\IPython\\core\\interactiveshell.py:284\u001b[0m, in \u001b[0;36m_modified_open\u001b[1;34m(file, *args, **kwargs)\u001b[0m\n\u001b[0;32m    277\u001b[0m \u001b[38;5;28;01mif\u001b[39;00m file \u001b[38;5;129;01min\u001b[39;00m {\u001b[38;5;241m0\u001b[39m, \u001b[38;5;241m1\u001b[39m, \u001b[38;5;241m2\u001b[39m}:\n\u001b[0;32m    278\u001b[0m     \u001b[38;5;28;01mraise\u001b[39;00m \u001b[38;5;167;01mValueError\u001b[39;00m(\n\u001b[0;32m    279\u001b[0m         \u001b[38;5;124mf\u001b[39m\u001b[38;5;124m\"\u001b[39m\u001b[38;5;124mIPython won\u001b[39m\u001b[38;5;124m'\u001b[39m\u001b[38;5;124mt let you open fd=\u001b[39m\u001b[38;5;132;01m{\u001b[39;00mfile\u001b[38;5;132;01m}\u001b[39;00m\u001b[38;5;124m by default \u001b[39m\u001b[38;5;124m\"\u001b[39m\n\u001b[0;32m    280\u001b[0m         \u001b[38;5;124m\"\u001b[39m\u001b[38;5;124mas it is likely to crash IPython. If you know what you are doing, \u001b[39m\u001b[38;5;124m\"\u001b[39m\n\u001b[0;32m    281\u001b[0m         \u001b[38;5;124m\"\u001b[39m\u001b[38;5;124myou can use builtins\u001b[39m\u001b[38;5;124m'\u001b[39m\u001b[38;5;124m open.\u001b[39m\u001b[38;5;124m\"\u001b[39m\n\u001b[0;32m    282\u001b[0m     )\n\u001b[1;32m--> 284\u001b[0m \u001b[38;5;28;01mreturn\u001b[39;00m \u001b[43mio_open\u001b[49m\u001b[43m(\u001b[49m\u001b[43mfile\u001b[49m\u001b[43m,\u001b[49m\u001b[43m \u001b[49m\u001b[38;5;241;43m*\u001b[39;49m\u001b[43margs\u001b[49m\u001b[43m,\u001b[49m\u001b[43m \u001b[49m\u001b[38;5;241;43m*\u001b[39;49m\u001b[38;5;241;43m*\u001b[39;49m\u001b[43mkwargs\u001b[49m\u001b[43m)\u001b[49m\n",
      "\u001b[1;31mFileNotFoundError\u001b[0m: [Errno 2] No such file or directory: 'C:\\\\Users\\\\AN\\\\Desktop\\\\qw\\\\train_datas1.json'"
     ]
    }
   ],
   "source": [
    "tokenizer = AutoTokenizer.from_pretrained(\"qw_0.5_instruct\")\n",
    "\n",
    "INSTRUCTION = \"你是一个物流专家，请根据用户的问题给出专业的回答\"\n",
    "\n",
    "def preprocess_dataset(input_file, tokenizer, instruction_text, max_length=512):\n",
    "    \"\"\"\n",
    "    预处理数据集，将输入和输出文本转化为模型可以接受的格式。\n",
    "\n",
    "    Args:\n",
    "        input_file (str): 输入 JSON 文件的路径。\n",
    "        tokenizer: 用于处理文本的 tokenizer。\n",
    "        instruction_text (str): 系统的提示信息。\n",
    "        max_length (int): 最大序列长度。\n",
    "\n",
    "    Returns:\n",
    "        list[dict]: 预处理后的数据集，每个样本是一个字典，包含 input_ids、attention_mask 和 labels。\n",
    "    \"\"\"\n",
    "    with open(input_file, 'r', encoding='utf-8') as f:\n",
    "        data = json.load(f)  # 假定 JSON 文件内容为一个数组\n",
    "\n",
    "    processed_data = []\n",
    "\n",
    "    for example in data:\n",
    "        # Tokenize instruction and response\n",
    "        instruction_tokens = tokenizer(\n",
    "            f\"<|im_start|>system\\n{instruction_text}<|im_end|>\\n<|im_start|>user\\n{example['question']}<|im_end|>\\n<|im_start|>assistant\\n\",\n",
    "            add_special_tokens=False\n",
    "        )\n",
    "        response_tokens = tokenizer(\n",
    "            example['answer'],\n",
    "            add_special_tokens=False\n",
    "        )\n",
    "\n",
    "        # Combine instruction and response tokens\n",
    "        input_ids = (\n",
    "            instruction_tokens[\"input_ids\"] + \n",
    "            response_tokens[\"input_ids\"] + \n",
    "            [tokenizer.pad_token_id]\n",
    "        )\n",
    "        attention_mask = (\n",
    "            instruction_tokens[\"attention_mask\"] + \n",
    "            response_tokens[\"attention_mask\"] + \n",
    "            [1]\n",
    "        )\n",
    "        labels = (\n",
    "            [-100] * len(instruction_tokens[\"input_ids\"]) + \n",
    "            response_tokens[\"input_ids\"] + \n",
    "            [tokenizer.pad_token_id]\n",
    "        )\n",
    "\n",
    "        # Apply truncation if necessary\n",
    "        if len(input_ids) > max_length:\n",
    "            input_ids = input_ids[:max_length]\n",
    "            attention_mask = attention_mask[:max_length]\n",
    "            labels = labels[:max_length]\n",
    "\n",
    "        # Append processed example to the list\n",
    "        processed_data.append({\n",
    "            \"input_ids\": input_ids,\n",
    "            \"attention_mask\": attention_mask,\n",
    "            \"labels\": labels\n",
    "        })\n",
    "\n",
    "    return processed_data\n",
    "\n",
    "# 使用示例\n",
    "input_file = r'C:\\Users\\AN\\Desktop\\qw\\train_datas.json'\n",
    "instruction_text = \"你是一个物流专家，请根据用户的问题给出专业的回答\"\n",
    "processed_dataset = preprocess_dataset(input_file, tokenizer, instruction_text)\n",
    "\n",
    "# # 打印第一个样本进行验证\n",
    "print(processed_dataset[0])"
   ]
  },
  {
   "cell_type": "code",
   "execution_count": null,
   "id": "14a64b88",
   "metadata": {},
   "outputs": [],
   "source": [
    "tokenizer.decode(processed_dataset[1][\"input_ids\"])"
   ]
  },
  {
   "cell_type": "code",
   "execution_count": null,
   "id": "9a36668a",
   "metadata": {},
   "outputs": [],
   "source": [
    "from peft import LoraConfig,TaskType,get_peft_model\n",
    "\n",
    "config = LoraConfig(\n",
    "    task_type=TaskType.CAUSAL_LM,\n",
    "    target_modules=[\n",
    "        \"q_proj\",\n",
    "        \"k_proj\",\n",
    "        \"v_proj\",\n",
    "        \"o_proj\"\n",
    "    ],\n",
    "    inference_mode=False,  # 训练模式\n",
    "    r=64, \n",
    "    lora_alpha=16,  \n",
    "    lora_dropout=0.1,  \n",
    ")\n",
    "model = AutoModelForCausalLM.from_pretrained(\"qw_0.5_instruct\")\n",
    "model = get_peft_model(model, config)\n"
   ]
  },
  {
   "cell_type": "code",
   "execution_count": null,
   "id": "8a5f1efe",
   "metadata": {},
   "outputs": [],
   "source": [
    "args = TrainingArguments(\n",
    "    output_dir=\"lora_qw2.5\",\n",
    "    num_train_epochs=3,\n",
    "    per_device_train_batch_size=2,\n",
    "    gradient_accumulation_steps=8,\n",
    "    logging_steps=10,\n",
    "    learning_rate=1e-4,\n",
    "    lr_scheduler_type=\"cosine\",\n",
    "    warmup_ratio=0.1\n",
    ")"
   ]
  },
  {
   "cell_type": "code",
   "execution_count": null,
   "id": "1472e5a4",
   "metadata": {},
   "outputs": [],
   "source": [
    "trainer = Trainer(\n",
    "    model=model,\n",
    "    args=args,\n",
    "    train_dataset=processed_dataset,\n",
    "    data_collator=DataCollatorForSeq2Seq(tokenizer,padding=True)\n",
    ")"
   ]
  },
  {
   "cell_type": "code",
   "execution_count": null,
   "id": "416db070",
   "metadata": {},
   "outputs": [],
   "source": [
    "trainer.train()"
   ]
  },
  {
   "cell_type": "code",
   "execution_count": null,
   "id": "764e3c73",
   "metadata": {},
   "outputs": [],
   "source": []
  }
 ],
 "metadata": {
  "kernelspec": {
   "display_name": "t",
   "language": "python",
   "name": "python3"
  },
  "language_info": {
   "codemirror_mode": {
    "name": "ipython",
    "version": 3
   },
   "file_extension": ".py",
   "mimetype": "text/x-python",
   "name": "python",
   "nbconvert_exporter": "python",
   "pygments_lexer": "ipython3",
   "version": "3.8.19"
  }
 },
 "nbformat": 4,
 "nbformat_minor": 5
}
